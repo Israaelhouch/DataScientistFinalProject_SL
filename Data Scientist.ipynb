{
 "cells": [
  {
   "cell_type": "code",
   "execution_count": 1,
   "metadata": {},
   "outputs": [],
   "source": [
    "import numpy as np\n",
    "import pandas as pd \n",
    "import matplotlib.pyplot as plt\n",
    "import seaborn as sns\n",
    "from sklearn.linear_model import LinearRegression, Ridge, Lasso\n",
    "from sklearn.metrics import mean_squared_error\n",
    "from sklearn.model_selection import train_test_split, RandomizedSearchCV\n",
    "from sklearn.preprocessing import StandardScaler\n",
    "from sklearn.ensemble import RandomForestRegressor, AdaBoostRegressor, GradientBoostingRegressor"
   ]
  },
  {
   "cell_type": "code",
   "execution_count": 2,
   "metadata": {},
   "outputs": [],
   "source": [
    "TaxiDf = pd.read_csv(\"dirty_taxi_data.csv\")"
   ]
  },
  {
   "cell_type": "markdown",
   "metadata": {},
   "source": [
    "## Data Exploration"
   ]
  },
  {
   "cell_type": "code",
   "execution_count": 3,
   "metadata": {},
   "outputs": [
    {
     "name": "stdout",
     "output_type": "stream",
     "text": [
      "First 5 rows of the dataset:\n"
     ]
    },
    {
     "data": {
      "text/html": [
       "<div>\n",
       "<style scoped>\n",
       "    .dataframe tbody tr th:only-of-type {\n",
       "        vertical-align: middle;\n",
       "    }\n",
       "\n",
       "    .dataframe tbody tr th {\n",
       "        vertical-align: top;\n",
       "    }\n",
       "\n",
       "    .dataframe thead th {\n",
       "        text-align: right;\n",
       "    }\n",
       "</style>\n",
       "<table border=\"1\" class=\"dataframe\">\n",
       "  <thead>\n",
       "    <tr style=\"text-align: right;\">\n",
       "      <th></th>\n",
       "      <th>key</th>\n",
       "      <th>fare_amount</th>\n",
       "      <th>pickup_datetime</th>\n",
       "      <th>pickup_longitude</th>\n",
       "      <th>pickup_latitude</th>\n",
       "      <th>dropoff_longitude</th>\n",
       "      <th>dropoff_latitude</th>\n",
       "      <th>passenger_count</th>\n",
       "    </tr>\n",
       "  </thead>\n",
       "  <tbody>\n",
       "    <tr>\n",
       "      <th>0</th>\n",
       "      <td>2010-01-16 20:06:00.000000168</td>\n",
       "      <td>3.3</td>\n",
       "      <td>2010-01-16 20:06:00 UTC</td>\n",
       "      <td>-73.953323</td>\n",
       "      <td>40.778532</td>\n",
       "      <td>-73.953375</td>\n",
       "      <td>40.772505</td>\n",
       "      <td>error_1.0</td>\n",
       "    </tr>\n",
       "    <tr>\n",
       "      <th>1</th>\n",
       "      <td>2010-09-22 23:21:00.00000065</td>\n",
       "      <td>6.5</td>\n",
       "      <td>2010-09-22 23:21:00 UTC</td>\n",
       "      <td>-73.985542</td>\n",
       "      <td>40.738333</td>\n",
       "      <td>-74.003350</td>\n",
       "      <td>40.738935</td>\n",
       "      <td>1.0</td>\n",
       "    </tr>\n",
       "    <tr>\n",
       "      <th>2</th>\n",
       "      <td>2013-10-17 18:40:14.0000001</td>\n",
       "      <td>5.0</td>\n",
       "      <td>2013-10-17 18:40:14 UTC</td>\n",
       "      <td>-73.999945</td>\n",
       "      <td>40.718097</td>\n",
       "      <td>-73.999239</td>\n",
       "      <td>40.723103</td>\n",
       "      <td>1.0</td>\n",
       "    </tr>\n",
       "    <tr>\n",
       "      <th>3</th>\n",
       "      <td>2015-06-09 19:39:42.0000009</td>\n",
       "      <td>40.5</td>\n",
       "      <td>2015-06-09 19:39:42 UTC</td>\n",
       "      <td>-73.974533</td>\n",
       "      <td>40.756237</td>\n",
       "      <td>-73.923149</td>\n",
       "      <td>40.867210</td>\n",
       "      <td>1.0</td>\n",
       "    </tr>\n",
       "    <tr>\n",
       "      <th>4</th>\n",
       "      <td>2012-05-01 07:16:59.0000001</td>\n",
       "      <td>7.7</td>\n",
       "      <td>2012-05-01 07:16:59 UTC</td>\n",
       "      <td>-73.952835</td>\n",
       "      <td>40.786351</td>\n",
       "      <td>-73.974022</td>\n",
       "      <td>40.762765</td>\n",
       "      <td>1.0</td>\n",
       "    </tr>\n",
       "  </tbody>\n",
       "</table>\n",
       "</div>"
      ],
      "text/plain": [
       "                             key  fare_amount          pickup_datetime  \\\n",
       "0  2010-01-16 20:06:00.000000168          3.3  2010-01-16 20:06:00 UTC   \n",
       "1   2010-09-22 23:21:00.00000065          6.5  2010-09-22 23:21:00 UTC   \n",
       "2    2013-10-17 18:40:14.0000001          5.0  2013-10-17 18:40:14 UTC   \n",
       "3    2015-06-09 19:39:42.0000009         40.5  2015-06-09 19:39:42 UTC   \n",
       "4    2012-05-01 07:16:59.0000001          7.7  2012-05-01 07:16:59 UTC   \n",
       "\n",
       "   pickup_longitude  pickup_latitude  dropoff_longitude  dropoff_latitude  \\\n",
       "0        -73.953323        40.778532         -73.953375         40.772505   \n",
       "1        -73.985542        40.738333         -74.003350         40.738935   \n",
       "2        -73.999945        40.718097         -73.999239         40.723103   \n",
       "3        -73.974533        40.756237         -73.923149         40.867210   \n",
       "4        -73.952835        40.786351         -73.974022         40.762765   \n",
       "\n",
       "  passenger_count  \n",
       "0       error_1.0  \n",
       "1             1.0  \n",
       "2             1.0  \n",
       "3             1.0  \n",
       "4             1.0  "
      ]
     },
     "execution_count": 3,
     "metadata": {},
     "output_type": "execute_result"
    }
   ],
   "source": [
    "# Display the first few rows of the dataset\n",
    "print(\"First 5 rows of the dataset:\")\n",
    "TaxiDf.head()"
   ]
  },
  {
   "cell_type": "code",
   "execution_count": 4,
   "metadata": {},
   "outputs": [
    {
     "name": "stdout",
     "output_type": "stream",
     "text": [
      "\n",
      "Last 5 rows of the dataset:\n"
     ]
    },
    {
     "data": {
      "text/html": [
       "<div>\n",
       "<style scoped>\n",
       "    .dataframe tbody tr th:only-of-type {\n",
       "        vertical-align: middle;\n",
       "    }\n",
       "\n",
       "    .dataframe tbody tr th {\n",
       "        vertical-align: top;\n",
       "    }\n",
       "\n",
       "    .dataframe thead th {\n",
       "        text-align: right;\n",
       "    }\n",
       "</style>\n",
       "<table border=\"1\" class=\"dataframe\">\n",
       "  <thead>\n",
       "    <tr style=\"text-align: right;\">\n",
       "      <th></th>\n",
       "      <th>key</th>\n",
       "      <th>fare_amount</th>\n",
       "      <th>pickup_datetime</th>\n",
       "      <th>pickup_longitude</th>\n",
       "      <th>pickup_latitude</th>\n",
       "      <th>dropoff_longitude</th>\n",
       "      <th>dropoff_latitude</th>\n",
       "      <th>passenger_count</th>\n",
       "    </tr>\n",
       "  </thead>\n",
       "  <tbody>\n",
       "    <tr>\n",
       "      <th>114995</th>\n",
       "      <td>2012-10-20 13:50:00.00000091</td>\n",
       "      <td>165.0</td>\n",
       "      <td>2012-10-20 13:50:00 UTC</td>\n",
       "      <td>-74.006435</td>\n",
       "      <td>40.732602</td>\n",
       "      <td>-73.980660</td>\n",
       "      <td>40.733897</td>\n",
       "      <td>1.0</td>\n",
       "    </tr>\n",
       "    <tr>\n",
       "      <th>114996</th>\n",
       "      <td>2012-04-04 20:05:00.000000261</td>\n",
       "      <td>4.5</td>\n",
       "      <td>2012-04-04 20:05:00 UTC</td>\n",
       "      <td>-73.955827</td>\n",
       "      <td>40.767640</td>\n",
       "      <td>-73.964683</td>\n",
       "      <td>40.762422</td>\n",
       "      <td>1.0</td>\n",
       "    </tr>\n",
       "    <tr>\n",
       "      <th>114997</th>\n",
       "      <td>2010-01-25 22:46:15.0000004</td>\n",
       "      <td>NaN</td>\n",
       "      <td>2010-01-25 22:46:15 UTC</td>\n",
       "      <td>-74.007678</td>\n",
       "      <td>40.711676</td>\n",
       "      <td>-73.997685</td>\n",
       "      <td>40.678757</td>\n",
       "      <td>1.0</td>\n",
       "    </tr>\n",
       "    <tr>\n",
       "      <th>114998</th>\n",
       "      <td>2009-06-11 22:02:45.0000002</td>\n",
       "      <td>12.5</td>\n",
       "      <td>2009-06-11 22:02:45 UTC</td>\n",
       "      <td>-74.002465</td>\n",
       "      <td>40.707247</td>\n",
       "      <td>-73.976805</td>\n",
       "      <td>40.751910</td>\n",
       "      <td>1.0</td>\n",
       "    </tr>\n",
       "    <tr>\n",
       "      <th>114999</th>\n",
       "      <td>2013-02-13 17:03:34.0000002</td>\n",
       "      <td>6.5</td>\n",
       "      <td>2013-02-13 17:03:34 UTC</td>\n",
       "      <td>-73.972745</td>\n",
       "      <td>40.759291</td>\n",
       "      <td>-73.980035</td>\n",
       "      <td>40.751461</td>\n",
       "      <td>1.0</td>\n",
       "    </tr>\n",
       "  </tbody>\n",
       "</table>\n",
       "</div>"
      ],
      "text/plain": [
       "                                  key  fare_amount          pickup_datetime  \\\n",
       "114995   2012-10-20 13:50:00.00000091        165.0  2012-10-20 13:50:00 UTC   \n",
       "114996  2012-04-04 20:05:00.000000261          4.5  2012-04-04 20:05:00 UTC   \n",
       "114997    2010-01-25 22:46:15.0000004          NaN  2010-01-25 22:46:15 UTC   \n",
       "114998    2009-06-11 22:02:45.0000002         12.5  2009-06-11 22:02:45 UTC   \n",
       "114999    2013-02-13 17:03:34.0000002          6.5  2013-02-13 17:03:34 UTC   \n",
       "\n",
       "        pickup_longitude  pickup_latitude  dropoff_longitude  \\\n",
       "114995        -74.006435        40.732602         -73.980660   \n",
       "114996        -73.955827        40.767640         -73.964683   \n",
       "114997        -74.007678        40.711676         -73.997685   \n",
       "114998        -74.002465        40.707247         -73.976805   \n",
       "114999        -73.972745        40.759291         -73.980035   \n",
       "\n",
       "        dropoff_latitude passenger_count  \n",
       "114995         40.733897             1.0  \n",
       "114996         40.762422             1.0  \n",
       "114997         40.678757             1.0  \n",
       "114998         40.751910             1.0  \n",
       "114999         40.751461             1.0  "
      ]
     },
     "execution_count": 4,
     "metadata": {},
     "output_type": "execute_result"
    }
   ],
   "source": [
    "# Display the last few rows of the dataset\n",
    "print(\"\\nLast 5 rows of the dataset:\")\n",
    "TaxiDf.tail()"
   ]
  },
  {
   "cell_type": "code",
   "execution_count": 5,
   "metadata": {},
   "outputs": [
    {
     "name": "stdout",
     "output_type": "stream",
     "text": [
      "\n",
      "Basic information about the dataset:\n",
      "<class 'pandas.core.frame.DataFrame'>\n",
      "RangeIndex: 115000 entries, 0 to 114999\n",
      "Data columns (total 8 columns):\n",
      " #   Column             Non-Null Count   Dtype  \n",
      "---  ------             --------------   -----  \n",
      " 0   key                115000 non-null  object \n",
      " 1   fare_amount        92160 non-null   float64\n",
      " 2   pickup_datetime    115000 non-null  object \n",
      " 3   pickup_longitude   115000 non-null  float64\n",
      " 4   pickup_latitude    115000 non-null  float64\n",
      " 5   dropoff_longitude  115000 non-null  float64\n",
      " 6   dropoff_latitude   115000 non-null  float64\n",
      " 7   passenger_count    93074 non-null   object \n",
      "dtypes: float64(5), object(3)\n",
      "memory usage: 7.0+ MB\n"
     ]
    }
   ],
   "source": [
    "# Display the basic information about the dataset (column names, non-null counts, data types)\n",
    "print(\"\\nBasic information about the dataset:\")\n",
    "TaxiDf.info()"
   ]
  },
  {
   "cell_type": "markdown",
   "metadata": {},
   "source": [
    "=> \"passenger_count\" is an object column, it should be float"
   ]
  },
  {
   "cell_type": "code",
   "execution_count": 6,
   "metadata": {},
   "outputs": [
    {
     "name": "stdout",
     "output_type": "stream",
     "text": [
      "\n",
      "Summary statistics of numerical columns:\n"
     ]
    },
    {
     "data": {
      "text/html": [
       "<div>\n",
       "<style scoped>\n",
       "    .dataframe tbody tr th:only-of-type {\n",
       "        vertical-align: middle;\n",
       "    }\n",
       "\n",
       "    .dataframe tbody tr th {\n",
       "        vertical-align: top;\n",
       "    }\n",
       "\n",
       "    .dataframe thead th {\n",
       "        text-align: right;\n",
       "    }\n",
       "</style>\n",
       "<table border=\"1\" class=\"dataframe\">\n",
       "  <thead>\n",
       "    <tr style=\"text-align: right;\">\n",
       "      <th></th>\n",
       "      <th>fare_amount</th>\n",
       "      <th>pickup_longitude</th>\n",
       "      <th>pickup_latitude</th>\n",
       "      <th>dropoff_longitude</th>\n",
       "      <th>dropoff_latitude</th>\n",
       "    </tr>\n",
       "  </thead>\n",
       "  <tbody>\n",
       "    <tr>\n",
       "      <th>count</th>\n",
       "      <td>92160.000000</td>\n",
       "      <td>115000.000000</td>\n",
       "      <td>115000.000000</td>\n",
       "      <td>115000.000000</td>\n",
       "      <td>115000.000000</td>\n",
       "    </tr>\n",
       "    <tr>\n",
       "      <th>mean</th>\n",
       "      <td>16.431745</td>\n",
       "      <td>-72.559159</td>\n",
       "      <td>39.946204</td>\n",
       "      <td>-72.566149</td>\n",
       "      <td>39.939186</td>\n",
       "    </tr>\n",
       "    <tr>\n",
       "      <th>std</th>\n",
       "      <td>32.339641</td>\n",
       "      <td>10.650615</td>\n",
       "      <td>6.020752</td>\n",
       "      <td>10.218077</td>\n",
       "      <td>11.215051</td>\n",
       "    </tr>\n",
       "    <tr>\n",
       "      <th>min</th>\n",
       "      <td>-25.000000</td>\n",
       "      <td>-736.400000</td>\n",
       "      <td>-74.008970</td>\n",
       "      <td>-90.239125</td>\n",
       "      <td>-3114.304848</td>\n",
       "    </tr>\n",
       "    <tr>\n",
       "      <th>25%</th>\n",
       "      <td>6.100000</td>\n",
       "      <td>-73.992103</td>\n",
       "      <td>40.734890</td>\n",
       "      <td>-73.991481</td>\n",
       "      <td>40.734044</td>\n",
       "    </tr>\n",
       "    <tr>\n",
       "      <th>50%</th>\n",
       "      <td>8.500000</td>\n",
       "      <td>-73.981890</td>\n",
       "      <td>40.752672</td>\n",
       "      <td>-73.980078</td>\n",
       "      <td>40.753122</td>\n",
       "    </tr>\n",
       "    <tr>\n",
       "      <th>75%</th>\n",
       "      <td>13.700000</td>\n",
       "      <td>-73.967190</td>\n",
       "      <td>40.767137</td>\n",
       "      <td>-73.963695</td>\n",
       "      <td>40.768010</td>\n",
       "    </tr>\n",
       "    <tr>\n",
       "      <th>max</th>\n",
       "      <td>1456.600000</td>\n",
       "      <td>40.808197</td>\n",
       "      <td>90.016667</td>\n",
       "      <td>40.814702</td>\n",
       "      <td>407.000000</td>\n",
       "    </tr>\n",
       "  </tbody>\n",
       "</table>\n",
       "</div>"
      ],
      "text/plain": [
       "        fare_amount  pickup_longitude  pickup_latitude  dropoff_longitude  \\\n",
       "count  92160.000000     115000.000000    115000.000000      115000.000000   \n",
       "mean      16.431745        -72.559159        39.946204         -72.566149   \n",
       "std       32.339641         10.650615         6.020752          10.218077   \n",
       "min      -25.000000       -736.400000       -74.008970         -90.239125   \n",
       "25%        6.100000        -73.992103        40.734890         -73.991481   \n",
       "50%        8.500000        -73.981890        40.752672         -73.980078   \n",
       "75%       13.700000        -73.967190        40.767137         -73.963695   \n",
       "max     1456.600000         40.808197        90.016667          40.814702   \n",
       "\n",
       "       dropoff_latitude  \n",
       "count     115000.000000  \n",
       "mean          39.939186  \n",
       "std           11.215051  \n",
       "min        -3114.304848  \n",
       "25%           40.734044  \n",
       "50%           40.753122  \n",
       "75%           40.768010  \n",
       "max          407.000000  "
      ]
     },
     "execution_count": 6,
     "metadata": {},
     "output_type": "execute_result"
    }
   ],
   "source": [
    "# Display basic statistics (mean, standard deviation, min, max, etc.)\n",
    "print(\"\\nSummary statistics of numerical columns:\")\n",
    "describe=pd.DataFrame(TaxiDf.describe())\n",
    "describe"
   ]
  },
  {
   "cell_type": "markdown",
   "metadata": {},
   "source": [
    "=> huge difference between the min and max value in \"fare_amount\" column "
   ]
  },
  {
   "cell_type": "code",
   "execution_count": 7,
   "metadata": {},
   "outputs": [
    {
     "name": "stdout",
     "output_type": "stream",
     "text": [
      "\n",
      "Missing values in each column:\n"
     ]
    },
    {
     "data": {
      "text/plain": [
       "key                      0\n",
       "fare_amount          22840\n",
       "pickup_datetime          0\n",
       "pickup_longitude         0\n",
       "pickup_latitude          0\n",
       "dropoff_longitude        0\n",
       "dropoff_latitude         0\n",
       "passenger_count      21926\n",
       "dtype: int64"
      ]
     },
     "execution_count": 7,
     "metadata": {},
     "output_type": "execute_result"
    }
   ],
   "source": [
    "# Check for missing values\n",
    "print(\"\\nMissing values in each column:\")\n",
    "TaxiDf.isnull().sum()"
   ]
  },
  {
   "cell_type": "markdown",
   "metadata": {},
   "source": [
    "=> missign values for \"fare_amount\" and \"passenger_count\" columns"
   ]
  },
  {
   "cell_type": "code",
   "execution_count": 8,
   "metadata": {},
   "outputs": [
    {
     "name": "stdout",
     "output_type": "stream",
     "text": [
      "\n",
      "Shape of the dataset (rows, columns):\n",
      "(115000, 8)\n"
     ]
    }
   ],
   "source": [
    "# Check the shape of the dataset (number of rows and columns)\n",
    "print(\"\\nShape of the dataset (rows, columns):\")\n",
    "print(TaxiDf.shape)"
   ]
  },
  {
   "cell_type": "code",
   "execution_count": 9,
   "metadata": {},
   "outputs": [
    {
     "name": "stdout",
     "output_type": "stream",
     "text": [
      "\n",
      "Data types of each column:\n"
     ]
    },
    {
     "data": {
      "text/plain": [
       "key                   object\n",
       "fare_amount          float64\n",
       "pickup_datetime       object\n",
       "pickup_longitude     float64\n",
       "pickup_latitude      float64\n",
       "dropoff_longitude    float64\n",
       "dropoff_latitude     float64\n",
       "passenger_count       object\n",
       "dtype: object"
      ]
     },
     "execution_count": 9,
     "metadata": {},
     "output_type": "execute_result"
    }
   ],
   "source": [
    "# Display the data types of each column\n",
    "print(\"\\nData types of each column:\")\n",
    "TaxiDf.dtypes"
   ]
  },
  {
   "cell_type": "code",
   "execution_count": 10,
   "metadata": {},
   "outputs": [
    {
     "name": "stdout",
     "output_type": "stream",
     "text": [
      "\n",
      "Correlation matrix:\n"
     ]
    },
    {
     "data": {
      "image/png": "[encoded data removed]",
      "text/plain": [
       "<Figure size 1000x800 with 2 Axes>"
      ]
     },
     "metadata": {},
     "output_type": "display_data"
    }
   ],
   "source": [
    "# Display the correlation matrix (for numerical data)\n",
    "print(\"\\nCorrelation matrix:\")\n",
    "numerical_df = TaxiDf[describe.columns]\n",
    "correlation_matrix=numerical_df.corr()\n",
    "\n",
    "# Create the heatmap\n",
    "plt.figure(figsize = (10,8))\n",
    "sns.heatmap(correlation_matrix, cmap = 'coolwarm')\n",
    "plt.show()"
   ]
  },
  {
   "cell_type": "code",
   "execution_count": 11,
   "metadata": {},
   "outputs": [
    {
     "name": "stdout",
     "output_type": "stream",
     "text": [
      "Unique values in column 'key': 100000 unique value\n",
      "['2010-01-16 20:06:00.000000168' '2010-09-22 23:21:00.00000065'\n",
      " '2013-10-17 18:40:14.0000001' ... '2010-11-21 01:41:56.0000002'\n",
      " '2015-02-14 14:49:34.0000008' '2009-01-14 08:49:00.000000263']\n",
      "\n",
      "\n",
      "Unique values in column 'fare_amount': 1046 unique value\n",
      "[   3.3    6.5    5.  ...  370.7   79.  1456.6]\n",
      "\n",
      "\n",
      "Unique values in column 'pickup_datetime': 98194 unique value\n",
      "['2010-01-16 20:06:00 UTC' '2010-09-22 23:21:00 UTC'\n",
      " '2013-10-17 18:40:14 UTC' ... '2011-10-07 22:39:00 UTC'\n",
      " '11-15-2009 18:46' '2010-01-25 22:46:15 UTC']\n",
      "\n",
      "\n",
      "Unique values in column 'pickup_longitude': 51942 unique value\n",
      "[-73.953323 -73.985542 -73.999945 ... -73.975191 -73.996433 -73.986628]\n",
      "\n",
      "\n",
      "Unique values in column 'pickup_latitude': 58204 unique value\n",
      "[40.778532   40.738333   40.718097   ... 40.746738   40.735383\n",
      " 40.75025177]\n",
      "\n",
      "\n",
      "Unique values in column 'dropoff_longitude': 54557 unique value\n",
      "[-73.953375 -74.00335  -73.999239 ... -73.986771 -73.976727 -73.981338]\n",
      "\n",
      "\n",
      "Unique values in column 'dropoff_latitude': 61131 unique value\n",
      "[40.772505   40.738935   40.723103   ... 40.773003   40.654079\n",
      " 40.76853943]\n",
      "\n",
      "\n",
      "Unique values in column 'passenger_count': 16 unique value\n",
      "['error_1.0' '1.0' nan '2.0' '5.0' '6.0' 'error_3.0' 'error_2.0' '3.0'\n",
      " 'error_nan' '4.0' '0.0' 'error_4.0' 'error_5.0' 'error_6.0' 'error_0.0']\n",
      "\n",
      "\n"
     ]
    }
   ],
   "source": [
    "# Display unique values for each column\n",
    "for column in TaxiDf.columns:\n",
    "    unique_values = TaxiDf[column].unique()\n",
    "    print(f\"Unique values in column '{column}': {len(unique_values)} unique value\")\n",
    "    print(unique_values)\n",
    "    print(\"\\n\")  "
   ]
  },
  {
   "cell_type": "markdown",
   "metadata": {},
   "source": [
    "=> \"passenger_count\" column should be fixed (invalid values) and its type would be float "
   ]
  },
  {
   "cell_type": "markdown",
   "metadata": {},
   "source": [
    "## Data Cleaning"
   ]
  },
  {
   "cell_type": "markdown",
   "metadata": {},
   "source": [
    "##### - \"passenger_count\" column :"
   ]
  },
  {
   "cell_type": "code",
   "execution_count": 12,
   "metadata": {},
   "outputs": [],
   "source": [
    "# Display value counts for a specific column\n",
    "def value_count(column_name,df):\n",
    "    print(f\"\\nValue counts for column {column_name}:\")\n",
    "    print(df[column_name].value_counts())"
   ]
  },
  {
   "cell_type": "code",
   "execution_count": 13,
   "metadata": {},
   "outputs": [
    {
     "name": "stdout",
     "output_type": "stream",
     "text": [
      "\n",
      "Value counts for column passenger_count:\n",
      "passenger_count\n",
      "1.0          60568\n",
      "2.0          12742\n",
      "5.0           6053\n",
      "3.0           3872\n",
      "error_1.0     3220\n",
      "4.0           1889\n",
      "6.0           1857\n",
      "error_nan     1129\n",
      "error_2.0      698\n",
      "0.0            343\n",
      "error_5.0      294\n",
      "error_3.0      202\n",
      "error_4.0       97\n",
      "error_6.0       96\n",
      "error_0.0       14\n",
      "Name: count, dtype: int64\n"
     ]
    }
   ],
   "source": [
    "value_count(\"passenger_count\",TaxiDf)"
   ]
  },
  {
   "cell_type": "code",
   "execution_count": 14,
   "metadata": {},
   "outputs": [],
   "source": [
    "# Replace \"error_1\".. with the corresponding value \n",
    "repl_dict={\"error_nan\":\"0.0\", \"error_0.0\":\"0.0\", \"error_1.0\":\"1.0\", \"error_2.0\":\"2.0\", \"error_3.0\":\"3.0\", \"error_4.0\":\"4.0\", \"error_5.0\":\"5.0\", \"error_6.0\":\"6.0\"}\n",
    "for old, new in repl_dict.items():\n",
    "    TaxiDf[\"passenger_count\"] = TaxiDf[\"passenger_count\"].str.replace(old,new)"
   ]
  },
  {
   "cell_type": "code",
   "execution_count": 15,
   "metadata": {},
   "outputs": [
    {
     "name": "stdout",
     "output_type": "stream",
     "text": [
      "\n",
      "Value counts for column passenger_count:\n",
      "passenger_count\n",
      "1.0    63788\n",
      "2.0    13440\n",
      "5.0     6347\n",
      "3.0     4074\n",
      "4.0     1986\n",
      "6.0     1953\n",
      "0.0     1486\n",
      "Name: count, dtype: int64\n"
     ]
    }
   ],
   "source": [
    "value_count(\"passenger_count\",TaxiDf)"
   ]
  },
  {
   "cell_type": "markdown",
   "metadata": {},
   "source": [
    "\n",
    "- It is impossible to have 0 passenger => replace them with the mean"
   ]
  },
  {
   "cell_type": "code",
   "execution_count": 16,
   "metadata": {},
   "outputs": [],
   "source": [
    "#change column type\n",
    "TaxiDf[\"passenger_count\"]=TaxiDf[\"passenger_count\"].astype(float)\n",
    "#replace with the mean\n",
    "mean=TaxiDf[\"passenger_count\"].mean()\n",
    "TaxiDf[\"passenger_count\"] = TaxiDf[\"passenger_count\"].replace(0.0,round(mean))"
   ]
  },
  {
   "cell_type": "markdown",
   "metadata": {},
   "source": [
    "percentage of missing values is 21926/115000 = 0.1906608696 >> 0.05 => we can't drop it "
   ]
  },
  {
   "cell_type": "code",
   "execution_count": 17,
   "metadata": {},
   "outputs": [],
   "source": [
    "#replace missing values with the mean\n",
    "TaxiDf[\"passenger_count\"] = TaxiDf[\"passenger_count\"].fillna(value=mean)"
   ]
  },
  {
   "cell_type": "code",
   "execution_count": 18,
   "metadata": {},
   "outputs": [],
   "source": [
    "# Drop rows where 'passenger_count' is either 'error_nan' or '0.0'\n",
    "TaxiDf = TaxiDf[~TaxiDf[\"passenger_count\"].isin([\"error_nan\", \"0.0\"])]"
   ]
  },
  {
   "cell_type": "code",
   "execution_count": 19,
   "metadata": {},
   "outputs": [
    {
     "name": "stdout",
     "output_type": "stream",
     "text": [
      "\n",
      "Value counts for column passenger_count:\n",
      "passenger_count\n",
      "1.000000    63788\n",
      "1.657681    21926\n",
      "2.000000    14926\n",
      "5.000000     6347\n",
      "3.000000     4074\n",
      "4.000000     1986\n",
      "6.000000     1953\n",
      "Name: count, dtype: int64\n"
     ]
    }
   ],
   "source": [
    "value_count(\"passenger_count\",TaxiDf)"
   ]
  },
  {
   "cell_type": "markdown",
   "metadata": {},
   "source": [
    "##### - \"fare_amount\" column :"
   ]
  },
  {
   "cell_type": "code",
   "execution_count": 20,
   "metadata": {},
   "outputs": [],
   "source": [
    "TaxiDf.dropna(subset=[\"fare_amount\"], inplace=True)"
   ]
  },
  {
   "cell_type": "code",
   "execution_count": 21,
   "metadata": {},
   "outputs": [
    {
     "name": "stdout",
     "output_type": "stream",
     "text": [
      "\n",
      "Missing values in each column:\n"
     ]
    },
    {
     "data": {
      "text/plain": [
       "key                  0\n",
       "fare_amount          0\n",
       "pickup_datetime      0\n",
       "pickup_longitude     0\n",
       "pickup_latitude      0\n",
       "dropoff_longitude    0\n",
       "dropoff_latitude     0\n",
       "passenger_count      0\n",
       "dtype: int64"
      ]
     },
     "execution_count": 21,
     "metadata": {},
     "output_type": "execute_result"
    }
   ],
   "source": [
    "# Check for missing values\n",
    "print(\"\\nMissing values in each column:\")\n",
    "TaxiDf.isnull().sum()"
   ]
  },
  {
   "cell_type": "code",
   "execution_count": 22,
   "metadata": {},
   "outputs": [
    {
     "name": "stdout",
     "output_type": "stream",
     "text": [
      "\n",
      "Shape of the dataset (rows, columns):\n",
      "(92160, 8)\n"
     ]
    }
   ],
   "source": [
    "# Check the shape of the dataset (number of rows and columns)\n",
    "print(\"\\nShape of the dataset (rows, columns):\")\n",
    "print(TaxiDf.shape) "
   ]
  },
  {
   "cell_type": "code",
   "execution_count": 23,
   "metadata": {},
   "outputs": [
    {
     "data": {
      "image/png": "[encoded data removed]",
      "text/plain": [
       "<Figure size 640x480 with 1 Axes>"
      ]
     },
     "metadata": {},
     "output_type": "display_data"
    }
   ],
   "source": [
    "# boxplot for data features\n",
    "plt.boxplot(x=\"fare_amount\", data=TaxiDf) \n",
    "plt.title('Basic Boxplot for fare_amount column')\n",
    "plt.show()"
   ]
  },
  {
   "cell_type": "code",
   "execution_count": 24,
   "metadata": {},
   "outputs": [
    {
     "name": "stdout",
     "output_type": "stream",
     "text": [
      "number of duplicates:  8693\n"
     ]
    }
   ],
   "source": [
    "# dropping duplicates\n",
    "duplicates=TaxiDf[TaxiDf.duplicated()]\n",
    "print(\"number of duplicates: \",len(duplicates))\n",
    "TaxiDf.drop(duplicates.index, inplace=True)"
   ]
  },
  {
   "cell_type": "markdown",
   "metadata": {},
   "source": [
    "# splitting the data\n"
   ]
  },
  {
   "cell_type": "code",
   "execution_count": 25,
   "metadata": {},
   "outputs": [
    {
     "data": {
      "text/html": [
       "<div>\n",
       "<style scoped>\n",
       "    .dataframe tbody tr th:only-of-type {\n",
       "        vertical-align: middle;\n",
       "    }\n",
       "\n",
       "    .dataframe tbody tr th {\n",
       "        vertical-align: top;\n",
       "    }\n",
       "\n",
       "    .dataframe thead th {\n",
       "        text-align: right;\n",
       "    }\n",
       "</style>\n",
       "<table border=\"1\" class=\"dataframe\">\n",
       "  <thead>\n",
       "    <tr style=\"text-align: right;\">\n",
       "      <th></th>\n",
       "      <th>fare_amount</th>\n",
       "      <th>pickup_longitude</th>\n",
       "      <th>pickup_latitude</th>\n",
       "      <th>dropoff_longitude</th>\n",
       "      <th>dropoff_latitude</th>\n",
       "    </tr>\n",
       "  </thead>\n",
       "  <tbody>\n",
       "    <tr>\n",
       "      <th>0</th>\n",
       "      <td>2.645430</td>\n",
       "      <td>2.645702</td>\n",
       "      <td>2.645750</td>\n",
       "      <td>2.645750</td>\n",
       "      <td>2.644735</td>\n",
       "    </tr>\n",
       "    <tr>\n",
       "      <th>1</th>\n",
       "      <td>-0.384465</td>\n",
       "      <td>-0.376189</td>\n",
       "      <td>-0.377606</td>\n",
       "      <td>-0.378618</td>\n",
       "      <td>-0.367289</td>\n",
       "    </tr>\n",
       "    <tr>\n",
       "      <th>2</th>\n",
       "      <td>-0.383942</td>\n",
       "      <td>-0.374003</td>\n",
       "      <td>-0.378498</td>\n",
       "      <td>-0.376443</td>\n",
       "      <td>-0.368041</td>\n",
       "    </tr>\n",
       "    <tr>\n",
       "      <th>3</th>\n",
       "      <td>-0.385828</td>\n",
       "      <td>-0.393621</td>\n",
       "      <td>-0.380603</td>\n",
       "      <td>-0.379083</td>\n",
       "      <td>-0.449932</td>\n",
       "    </tr>\n",
       "    <tr>\n",
       "      <th>4</th>\n",
       "      <td>-0.384805</td>\n",
       "      <td>-0.376226</td>\n",
       "      <td>-0.377585</td>\n",
       "      <td>-0.378656</td>\n",
       "      <td>-0.367268</td>\n",
       "    </tr>\n",
       "    <tr>\n",
       "      <th>5</th>\n",
       "      <td>-0.384726</td>\n",
       "      <td>-0.376226</td>\n",
       "      <td>-0.377585</td>\n",
       "      <td>-0.378656</td>\n",
       "      <td>-0.367267</td>\n",
       "    </tr>\n",
       "    <tr>\n",
       "      <th>6</th>\n",
       "      <td>-0.384555</td>\n",
       "      <td>-0.376226</td>\n",
       "      <td>-0.377584</td>\n",
       "      <td>-0.378655</td>\n",
       "      <td>-0.367267</td>\n",
       "    </tr>\n",
       "    <tr>\n",
       "      <th>7</th>\n",
       "      <td>-0.337109</td>\n",
       "      <td>-0.373211</td>\n",
       "      <td>-0.376289</td>\n",
       "      <td>-0.375639</td>\n",
       "      <td>-0.357671</td>\n",
       "    </tr>\n",
       "  </tbody>\n",
       "</table>\n",
       "</div>"
      ],
      "text/plain": [
       "   fare_amount  pickup_longitude  pickup_latitude  dropoff_longitude  \\\n",
       "0     2.645430          2.645702         2.645750           2.645750   \n",
       "1    -0.384465         -0.376189        -0.377606          -0.378618   \n",
       "2    -0.383942         -0.374003        -0.378498          -0.376443   \n",
       "3    -0.385828         -0.393621        -0.380603          -0.379083   \n",
       "4    -0.384805         -0.376226        -0.377585          -0.378656   \n",
       "5    -0.384726         -0.376226        -0.377585          -0.378656   \n",
       "6    -0.384555         -0.376226        -0.377584          -0.378655   \n",
       "7    -0.337109         -0.373211        -0.376289          -0.375639   \n",
       "\n",
       "   dropoff_latitude  \n",
       "0          2.644735  \n",
       "1         -0.367289  \n",
       "2         -0.368041  \n",
       "3         -0.449932  \n",
       "4         -0.367268  \n",
       "5         -0.367267  \n",
       "6         -0.367267  \n",
       "7         -0.357671  "
      ]
     },
     "execution_count": 25,
     "metadata": {},
     "output_type": "execute_result"
    }
   ],
   "source": [
    "\n",
    "# Scaling variables\n",
    "scaler = StandardScaler()\n",
    "describe_scaled = scaler.fit_transform(describe) #describe contains only numeric features from TaxiDf\n",
    "scaled_TaxiDf = pd.DataFrame(describe_scaled, \n",
    "                         columns=describe.columns)\n",
    "scaled_TaxiDf\n"
   ]
  },
  {
   "cell_type": "code",
   "execution_count": 26,
   "metadata": {},
   "outputs": [],
   "source": [
    "X=scaled_TaxiDf.drop([\"fare_amount\"],axis=1)\n",
    "y=scaled_TaxiDf[[\"fare_amount\"]]"
   ]
  },
  {
   "cell_type": "code",
   "execution_count": 27,
   "metadata": {},
   "outputs": [],
   "source": [
    "def evaluate_model(model, X_train, X_test, y_train, y_test):\n",
    "    model.fit(X_train, y_train)\n",
    "    y_pred = model.predict(X_test)\n",
    "    mse = mean_squared_error(y_test, y_pred)\n",
    "    return mse\n"
   ]
  },
  {
   "cell_type": "code",
   "execution_count": 28,
   "metadata": {},
   "outputs": [],
   "source": [
    "models_result={}"
   ]
  },
  {
   "cell_type": "code",
   "execution_count": 29,
   "metadata": {},
   "outputs": [],
   "source": [
    "X_train, X_test, y_train, y_test = train_test_split(X, y, test_size=0.3, random_state=42)"
   ]
  },
  {
   "cell_type": "markdown",
   "metadata": {},
   "source": [
    "### Model1: Linear Regression"
   ]
  },
  {
   "cell_type": "code",
   "execution_count": 30,
   "metadata": {},
   "outputs": [
    {
     "name": "stdout",
     "output_type": "stream",
     "text": [
      " Linear Regression MSE : 343016.6935184985\n",
      "\n",
      "models result: {'LinearRegression': np.float64(343016.6935184985)}\n"
     ]
    }
   ],
   "source": [
    "\n",
    "reg = LinearRegression()\n",
    "lr_mse = evaluate_model(reg, X_train, X_test, y_train, y_test)\n",
    "print(\" Linear Regression MSE :\", lr_mse)\n",
    "models_result[\"LinearRegression\"]=lr_mse\n",
    "print(\"\\nmodels result:\",models_result)\n"
   ]
  },
  {
   "cell_type": "markdown",
   "metadata": {},
   "source": [
    "### Model2: Ridge "
   ]
  },
  {
   "cell_type": "code",
   "execution_count": 31,
   "metadata": {},
   "outputs": [
    {
     "name": "stdout",
     "output_type": "stream",
     "text": [
      "[np.float64(2.9434039835924932), np.float64(3.0311636973706833), np.float64(3.0405102251210834), np.float64(3.041450972752491), np.float64(3.0415451088798098), np.float64(3.0415545231066026)]\n",
      "Redge MSE: 2.9434039835924932\n",
      "\n",
      "models result: {'LinearRegression': np.float64(343016.6935184985), 'Ridge': np.float64(2.9434039835924932)}\n"
     ]
    }
   ],
   "source": [
    "alphas = [0.1, 1.0, 10.0, 100.0, 1000.0, 10000.0]\n",
    "ridge_scores = []\n",
    "for alpha in alphas:\n",
    "    ridge = Ridge(alpha=alpha)\n",
    "    ridge_mse = evaluate_model(ridge, X_train, X_test, y_train, y_test)\n",
    "    ridge_scores.append(ridge_mse)\n",
    "print(ridge_scores)\n",
    "best_redge_mse=min(ridge_scores)\n",
    "print(\"Redge MSE:\", best_redge_mse)\n",
    "best_alpha=alphas[0]\n",
    "models_result[\"Ridge\"]=best_redge_mse\n",
    "print(\"\\nmodels result:\",models_result)"
   ]
  },
  {
   "cell_type": "markdown",
   "metadata": {},
   "source": [
    "### Model 3 : Random Forest Regressor"
   ]
  },
  {
   "cell_type": "code",
   "execution_count": 32,
   "metadata": {},
   "outputs": [
    {
     "name": "stderr",
     "output_type": "stream",
     "text": [
      "/Users/macmini/Library/Python/3.9/lib/python/site-packages/sklearn/base.py:1473: DataConversionWarning: A column-vector y was passed when a 1d array was expected. Please change the shape of y to (n_samples,), for example using ravel().\n",
      "  return fit_method(estimator, *args, **kwargs)\n",
      "/Users/macmini/Library/Python/3.9/lib/python/site-packages/sklearn/base.py:1473: DataConversionWarning: A column-vector y was passed when a 1d array was expected. Please change the shape of y to (n_samples,), for example using ravel().\n",
      "  return fit_method(estimator, *args, **kwargs)\n",
      "/Users/macmini/Library/Python/3.9/lib/python/site-packages/sklearn/base.py:1473: DataConversionWarning: A column-vector y was passed when a 1d array was expected. Please change the shape of y to (n_samples,), for example using ravel().\n",
      "  return fit_method(estimator, *args, **kwargs)\n",
      "/Users/macmini/Library/Python/3.9/lib/python/site-packages/sklearn/base.py:1473: DataConversionWarning: A column-vector y was passed when a 1d array was expected. Please change the shape of y to (n_samples,), for example using ravel().\n",
      "  return fit_method(estimator, *args, **kwargs)\n",
      "/Users/macmini/Library/Python/3.9/lib/python/site-packages/sklearn/base.py:1473: DataConversionWarning: A column-vector y was passed when a 1d array was expected. Please change the shape of y to (n_samples,), for example using ravel().\n",
      "  return fit_method(estimator, *args, **kwargs)\n",
      "/Users/macmini/Library/Python/3.9/lib/python/site-packages/sklearn/base.py:1473: DataConversionWarning: A column-vector y was passed when a 1d array was expected. Please change the shape of y to (n_samples,), for example using ravel().\n",
      "  return fit_method(estimator, *args, **kwargs)\n",
      "/Users/macmini/Library/Python/3.9/lib/python/site-packages/sklearn/base.py:1473: DataConversionWarning: A column-vector y was passed when a 1d array was expected. Please change the shape of y to (n_samples,), for example using ravel().\n",
      "  return fit_method(estimator, *args, **kwargs)\n",
      "/Users/macmini/Library/Python/3.9/lib/python/site-packages/sklearn/base.py:1473: DataConversionWarning: A column-vector y was passed when a 1d array was expected. Please change the shape of y to (n_samples,), for example using ravel().\n",
      "  return fit_method(estimator, *args, **kwargs)\n",
      "/Users/macmini/Library/Python/3.9/lib/python/site-packages/sklearn/base.py:1473: DataConversionWarning: A column-vector y was passed when a 1d array was expected. Please change the shape of y to (n_samples,), for example using ravel().\n",
      "  return fit_method(estimator, *args, **kwargs)\n",
      "/Users/macmini/Library/Python/3.9/lib/python/site-packages/sklearn/base.py:1473: DataConversionWarning: A column-vector y was passed when a 1d array was expected. Please change the shape of y to (n_samples,), for example using ravel().\n",
      "  return fit_method(estimator, *args, **kwargs)\n",
      "/Users/macmini/Library/Python/3.9/lib/python/site-packages/sklearn/base.py:1473: DataConversionWarning: A column-vector y was passed when a 1d array was expected. Please change the shape of y to (n_samples,), for example using ravel().\n",
      "  return fit_method(estimator, *args, **kwargs)\n",
      "/Users/macmini/Library/Python/3.9/lib/python/site-packages/sklearn/base.py:1473: DataConversionWarning: A column-vector y was passed when a 1d array was expected. Please change the shape of y to (n_samples,), for example using ravel().\n",
      "  return fit_method(estimator, *args, **kwargs)\n",
      "/Users/macmini/Library/Python/3.9/lib/python/site-packages/sklearn/base.py:1473: DataConversionWarning: A column-vector y was passed when a 1d array was expected. Please change the shape of y to (n_samples,), for example using ravel().\n",
      "  return fit_method(estimator, *args, **kwargs)\n",
      "/Users/macmini/Library/Python/3.9/lib/python/site-packages/sklearn/base.py:1473: DataConversionWarning: A column-vector y was passed when a 1d array was expected. Please change the shape of y to (n_samples,), for example using ravel().\n",
      "  return fit_method(estimator, *args, **kwargs)\n",
      "/Users/macmini/Library/Python/3.9/lib/python/site-packages/sklearn/base.py:1473: DataConversionWarning: A column-vector y was passed when a 1d array was expected. Please change the shape of y to (n_samples,), for example using ravel().\n",
      "  return fit_method(estimator, *args, **kwargs)\n",
      "/Users/macmini/Library/Python/3.9/lib/python/site-packages/sklearn/base.py:1473: DataConversionWarning: A column-vector y was passed when a 1d array was expected. Please change the shape of y to (n_samples,), for example using ravel().\n",
      "  return fit_method(estimator, *args, **kwargs)\n",
      "/Users/macmini/Library/Python/3.9/lib/python/site-packages/sklearn/base.py:1473: DataConversionWarning: A column-vector y was passed when a 1d array was expected. Please change the shape of y to (n_samples,), for example using ravel().\n",
      "  return fit_method(estimator, *args, **kwargs)\n",
      "/Users/macmini/Library/Python/3.9/lib/python/site-packages/sklearn/base.py:1473: DataConversionWarning: A column-vector y was passed when a 1d array was expected. Please change the shape of y to (n_samples,), for example using ravel().\n",
      "  return fit_method(estimator, *args, **kwargs)\n",
      "/Users/macmini/Library/Python/3.9/lib/python/site-packages/sklearn/base.py:1473: DataConversionWarning: A column-vector y was passed when a 1d array was expected. Please change the shape of y to (n_samples,), for example using ravel().\n",
      "  return fit_method(estimator, *args, **kwargs)\n",
      "/Users/macmini/Library/Python/3.9/lib/python/site-packages/sklearn/base.py:1473: DataConversionWarning: A column-vector y was passed when a 1d array was expected. Please change the shape of y to (n_samples,), for example using ravel().\n",
      "  return fit_method(estimator, *args, **kwargs)\n",
      "/Users/macmini/Library/Python/3.9/lib/python/site-packages/sklearn/base.py:1473: DataConversionWarning: A column-vector y was passed when a 1d array was expected. Please change the shape of y to (n_samples,), for example using ravel().\n",
      "  return fit_method(estimator, *args, **kwargs)\n",
      "/Users/macmini/Library/Python/3.9/lib/python/site-packages/sklearn/base.py:1473: DataConversionWarning: A column-vector y was passed when a 1d array was expected. Please change the shape of y to (n_samples,), for example using ravel().\n",
      "  return fit_method(estimator, *args, **kwargs)\n",
      "/Users/macmini/Library/Python/3.9/lib/python/site-packages/sklearn/base.py:1473: DataConversionWarning: A column-vector y was passed when a 1d array was expected. Please change the shape of y to (n_samples,), for example using ravel().\n",
      "  return fit_method(estimator, *args, **kwargs)\n",
      "/Users/macmini/Library/Python/3.9/lib/python/site-packages/sklearn/base.py:1473: DataConversionWarning: A column-vector y was passed when a 1d array was expected. Please change the shape of y to (n_samples,), for example using ravel().\n",
      "  return fit_method(estimator, *args, **kwargs)\n",
      "/Users/macmini/Library/Python/3.9/lib/python/site-packages/sklearn/base.py:1473: DataConversionWarning: A column-vector y was passed when a 1d array was expected. Please change the shape of y to (n_samples,), for example using ravel().\n",
      "  return fit_method(estimator, *args, **kwargs)\n",
      "/Users/macmini/Library/Python/3.9/lib/python/site-packages/sklearn/base.py:1473: DataConversionWarning: A column-vector y was passed when a 1d array was expected. Please change the shape of y to (n_samples,), for example using ravel().\n",
      "  return fit_method(estimator, *args, **kwargs)\n",
      "/Users/macmini/Library/Python/3.9/lib/python/site-packages/sklearn/base.py:1473: DataConversionWarning: A column-vector y was passed when a 1d array was expected. Please change the shape of y to (n_samples,), for example using ravel().\n",
      "  return fit_method(estimator, *args, **kwargs)\n",
      "/Users/macmini/Library/Python/3.9/lib/python/site-packages/sklearn/base.py:1473: DataConversionWarning: A column-vector y was passed when a 1d array was expected. Please change the shape of y to (n_samples,), for example using ravel().\n",
      "  return fit_method(estimator, *args, **kwargs)\n",
      "/Users/macmini/Library/Python/3.9/lib/python/site-packages/sklearn/base.py:1473: DataConversionWarning: A column-vector y was passed when a 1d array was expected. Please change the shape of y to (n_samples,), for example using ravel().\n",
      "  return fit_method(estimator, *args, **kwargs)\n",
      "/Users/macmini/Library/Python/3.9/lib/python/site-packages/sklearn/base.py:1473: DataConversionWarning: A column-vector y was passed when a 1d array was expected. Please change the shape of y to (n_samples,), for example using ravel().\n",
      "  return fit_method(estimator, *args, **kwargs)\n",
      "/Users/macmini/Library/Python/3.9/lib/python/site-packages/sklearn/base.py:1473: DataConversionWarning: A column-vector y was passed when a 1d array was expected. Please change the shape of y to (n_samples,), for example using ravel().\n",
      "  return fit_method(estimator, *args, **kwargs)\n",
      "/Users/macmini/Library/Python/3.9/lib/python/site-packages/sklearn/base.py:1473: DataConversionWarning: A column-vector y was passed when a 1d array was expected. Please change the shape of y to (n_samples,), for example using ravel().\n",
      "  return fit_method(estimator, *args, **kwargs)\n",
      "/Users/macmini/Library/Python/3.9/lib/python/site-packages/sklearn/base.py:1473: DataConversionWarning: A column-vector y was passed when a 1d array was expected. Please change the shape of y to (n_samples,), for example using ravel().\n",
      "  return fit_method(estimator, *args, **kwargs)\n",
      "/Users/macmini/Library/Python/3.9/lib/python/site-packages/sklearn/base.py:1473: DataConversionWarning: A column-vector y was passed when a 1d array was expected. Please change the shape of y to (n_samples,), for example using ravel().\n",
      "  return fit_method(estimator, *args, **kwargs)\n",
      "/Users/macmini/Library/Python/3.9/lib/python/site-packages/sklearn/base.py:1473: DataConversionWarning: A column-vector y was passed when a 1d array was expected. Please change the shape of y to (n_samples,), for example using ravel().\n",
      "  return fit_method(estimator, *args, **kwargs)\n",
      "/Users/macmini/Library/Python/3.9/lib/python/site-packages/sklearn/base.py:1473: DataConversionWarning: A column-vector y was passed when a 1d array was expected. Please change the shape of y to (n_samples,), for example using ravel().\n",
      "  return fit_method(estimator, *args, **kwargs)\n",
      "/Users/macmini/Library/Python/3.9/lib/python/site-packages/sklearn/base.py:1473: DataConversionWarning: A column-vector y was passed when a 1d array was expected. Please change the shape of y to (n_samples,), for example using ravel().\n",
      "  return fit_method(estimator, *args, **kwargs)\n",
      "/Users/macmini/Library/Python/3.9/lib/python/site-packages/sklearn/base.py:1473: DataConversionWarning: A column-vector y was passed when a 1d array was expected. Please change the shape of y to (n_samples,), for example using ravel().\n",
      "  return fit_method(estimator, *args, **kwargs)\n",
      "/Users/macmini/Library/Python/3.9/lib/python/site-packages/sklearn/base.py:1473: DataConversionWarning: A column-vector y was passed when a 1d array was expected. Please change the shape of y to (n_samples,), for example using ravel().\n",
      "  return fit_method(estimator, *args, **kwargs)\n",
      "/Users/macmini/Library/Python/3.9/lib/python/site-packages/sklearn/base.py:1473: DataConversionWarning: A column-vector y was passed when a 1d array was expected. Please change the shape of y to (n_samples,), for example using ravel().\n",
      "  return fit_method(estimator, *args, **kwargs)\n",
      "/Users/macmini/Library/Python/3.9/lib/python/site-packages/sklearn/base.py:1473: DataConversionWarning: A column-vector y was passed when a 1d array was expected. Please change the shape of y to (n_samples,), for example using ravel().\n",
      "  return fit_method(estimator, *args, **kwargs)\n",
      "/Users/macmini/Library/Python/3.9/lib/python/site-packages/sklearn/base.py:1473: DataConversionWarning: A column-vector y was passed when a 1d array was expected. Please change the shape of y to (n_samples,), for example using ravel().\n",
      "  return fit_method(estimator, *args, **kwargs)\n",
      "/Users/macmini/Library/Python/3.9/lib/python/site-packages/sklearn/base.py:1473: DataConversionWarning: A column-vector y was passed when a 1d array was expected. Please change the shape of y to (n_samples,), for example using ravel().\n",
      "  return fit_method(estimator, *args, **kwargs)\n",
      "/Users/macmini/Library/Python/3.9/lib/python/site-packages/sklearn/base.py:1473: DataConversionWarning: A column-vector y was passed when a 1d array was expected. Please change the shape of y to (n_samples,), for example using ravel().\n",
      "  return fit_method(estimator, *args, **kwargs)\n",
      "/Users/macmini/Library/Python/3.9/lib/python/site-packages/sklearn/base.py:1473: DataConversionWarning: A column-vector y was passed when a 1d array was expected. Please change the shape of y to (n_samples,), for example using ravel().\n",
      "  return fit_method(estimator, *args, **kwargs)\n",
      "/Users/macmini/Library/Python/3.9/lib/python/site-packages/sklearn/base.py:1473: DataConversionWarning: A column-vector y was passed when a 1d array was expected. Please change the shape of y to (n_samples,), for example using ravel().\n",
      "  return fit_method(estimator, *args, **kwargs)\n",
      "/Users/macmini/Library/Python/3.9/lib/python/site-packages/sklearn/base.py:1473: DataConversionWarning: A column-vector y was passed when a 1d array was expected. Please change the shape of y to (n_samples,), for example using ravel().\n",
      "  return fit_method(estimator, *args, **kwargs)\n",
      "/Users/macmini/Library/Python/3.9/lib/python/site-packages/sklearn/base.py:1473: DataConversionWarning: A column-vector y was passed when a 1d array was expected. Please change the shape of y to (n_samples,), for example using ravel().\n",
      "  return fit_method(estimator, *args, **kwargs)\n",
      "/Users/macmini/Library/Python/3.9/lib/python/site-packages/sklearn/base.py:1473: DataConversionWarning: A column-vector y was passed when a 1d array was expected. Please change the shape of y to (n_samples,), for example using ravel().\n",
      "  return fit_method(estimator, *args, **kwargs)\n",
      "/Users/macmini/Library/Python/3.9/lib/python/site-packages/sklearn/base.py:1473: DataConversionWarning: A column-vector y was passed when a 1d array was expected. Please change the shape of y to (n_samples,), for example using ravel().\n",
      "  return fit_method(estimator, *args, **kwargs)\n",
      "/Users/macmini/Library/Python/3.9/lib/python/site-packages/sklearn/base.py:1473: DataConversionWarning: A column-vector y was passed when a 1d array was expected. Please change the shape of y to (n_samples,), for example using ravel().\n",
      "  return fit_method(estimator, *args, **kwargs)\n",
      "/Users/macmini/Library/Python/3.9/lib/python/site-packages/sklearn/base.py:1473: DataConversionWarning: A column-vector y was passed when a 1d array was expected. Please change the shape of y to (n_samples,), for example using ravel().\n",
      "  return fit_method(estimator, *args, **kwargs)\n"
     ]
    },
    {
     "name": "stdout",
     "output_type": "stream",
     "text": [
      "Best parameters for RandomForest: {'n_estimators': 200, 'min_samples_split': 2, 'min_samples_leaf': 1, 'max_depth': 30}\n",
      " Random Fores tRegressor MSE : 2.99385755859663\n",
      "\n",
      "models result: {'LinearRegression': np.float64(343016.6935184985), 'Ridge': np.float64(2.9434039835924932), 'RandomForestRegressor': np.float64(2.99385755859663)}\n"
     ]
    }
   ],
   "source": [
    "rf = RandomForestRegressor(random_state=42)\n",
    "param_dist = {\n",
    "    'n_estimators': [50, 100, 200],\n",
    "    'max_depth': [None, 10, 20, 30],\n",
    "    'min_samples_split': [2, 5, 10],\n",
    "    'min_samples_leaf': [1, 2, 4],\n",
    "}\n",
    "\n",
    "random_search = RandomizedSearchCV(estimator=rf, param_distributions=param_dist, \n",
    "                                   n_iter=10, scoring='neg_mean_squared_error', \n",
    "                                   cv=5, random_state=42, n_jobs=-1)\n",
    "random_search.fit(X_train, y_train)\n",
    "best_rf = random_search.best_estimator_\n",
    "\n",
    "print(\"Best parameters for RandomForest:\", random_search.best_params_)\n",
    "RF_mse = evaluate_model(best_rf, X_train, X_test, y_train, y_test)\n",
    "print(\" Random Fores tRegressor MSE :\", RF_mse)\n",
    "\n",
    "models_result[\"RandomForestRegressor\"]=RF_mse\n",
    "print(\"\\nmodels result:\",models_result)"
   ]
  },
  {
   "cell_type": "code",
   "execution_count": 33,
   "metadata": {},
   "outputs": [
    {
     "name": "stdout",
     "output_type": "stream",
     "text": [
      "fetaures impotances: [0.25078724 0.27494666 0.24495287 0.22931324]\n"
     ]
    }
   ],
   "source": [
    "# important features \n",
    "importances = best_rf.feature_importances_\n",
    "print(\"fetaures impotances:\", importances)"
   ]
  },
  {
   "cell_type": "markdown",
   "metadata": {},
   "source": [
    "=> roughly same importances"
   ]
  },
  {
   "cell_type": "markdown",
   "metadata": {},
   "source": [
    "### Model 4 : AdaBoostRegressor"
   ]
  },
  {
   "cell_type": "code",
   "execution_count": 34,
   "metadata": {},
   "outputs": [
    {
     "name": "stdout",
     "output_type": "stream",
     "text": [
      "AdaBoost MSE with selected features: 2.965179189258102\n",
      "\n",
      "models result: {'LinearRegression': np.float64(343016.6935184985), 'Ridge': np.float64(2.9434039835924932), 'RandomForestRegressor': np.float64(2.99385755859663), 'AdaBoostRegressor': np.float64(2.965179189258102)}\n"
     ]
    },
    {
     "name": "stderr",
     "output_type": "stream",
     "text": [
      "/Users/macmini/Library/Python/3.9/lib/python/site-packages/sklearn/utils/validation.py:1339: DataConversionWarning: A column-vector y was passed when a 1d array was expected. Please change the shape of y to (n_samples, ), for example using ravel().\n",
      "  y = column_or_1d(y, warn=True)\n"
     ]
    }
   ],
   "source": [
    "ada = AdaBoostRegressor(random_state=42, n_estimators=100)\n",
    "ada_mse = evaluate_model(ada, X_train, X_test, y_train, y_test)\n",
    "print(\"AdaBoost MSE with selected features:\", ada_mse)\n",
    "\n",
    "models_result[\"AdaBoostRegressor\"]=ada_mse\n",
    "print(\"\\nmodels result:\",models_result)"
   ]
  },
  {
   "cell_type": "markdown",
   "metadata": {},
   "source": [
    "### model 5: Lasso"
   ]
  },
  {
   "cell_type": "code",
   "execution_count": 35,
   "metadata": {},
   "outputs": [
    {
     "name": "stdout",
     "output_type": "stream",
     "text": [
      "lasso : 3.041555569138694\n",
      "\n",
      "models result: {'LinearRegression': np.float64(343016.6935184985), 'Ridge': np.float64(2.9434039835924932), 'RandomForestRegressor': np.float64(2.99385755859663), 'AdaBoostRegressor': np.float64(2.965179189258102), 'Lasso': np.float64(3.041555569138694)}\n"
     ]
    }
   ],
   "source": [
    "lasso = Lasso(alpha=0.3)  \n",
    "lasso_mse = evaluate_model(lasso, X_train, X_test, y_train, y_test)\n",
    "print(\"lasso :\", lasso_mse)\n",
    "\n",
    "models_result[\"Lasso\"]=lasso_mse\n",
    "print(\"\\nmodels result:\",models_result)"
   ]
  },
  {
   "cell_type": "code",
   "execution_count": 36,
   "metadata": {},
   "outputs": [
    {
     "name": "stdout",
     "output_type": "stream",
     "text": [
      "\n",
      "models result: {'LinearRegression': np.float64(343016.6935184985), 'Ridge': np.float64(2.9434039835924932), 'RandomForestRegressor': np.float64(2.99385755859663), 'AdaBoostRegressor': np.float64(2.965179189258102), 'Lasso': np.float64(3.041555569138694)}\n",
      "Ridge is the most performant with MSE=  2.9434039835924932\n"
     ]
    }
   ],
   "source": [
    "print(\"\\nmodels result:\",models_result)\n",
    "print(\"Ridge is the most performant with MSE= \",best_redge_mse)"
   ]
  }
 ],
 "metadata": {
  "kernelspec": {
   "display_name": "Python 3",
   "language": "python",
   "name": "python3"
  },
  "language_info": {
   "codemirror_mode": {
    "name": "ipython",
    "version": 3
   },
   "file_extension": ".py",
   "mimetype": "text/x-python",
   "name": "python",
   "nbconvert_exporter": "python",
   "pygments_lexer": "ipython3",
   "version": "3.9.6"
  }
 },
 "nbformat": 4,
 "nbformat_minor": 2
}
